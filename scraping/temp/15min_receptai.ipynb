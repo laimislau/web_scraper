{
 "cells": [
  {
   "cell_type": "code",
   "execution_count": 3,
   "metadata": {},
   "outputs": [],
   "source": [
    "import requests\n",
    "from bs4 import BeautifulSoup\n",
    "from typing import List, Dict\n",
    "import pandas as pd\n",
    "\n"
   ]
  },
  {
   "cell_type": "code",
   "execution_count": 3,
   "metadata": {},
   "outputs": [],
   "source": [
    "page = requests.get(\"https://www.15min.lt/maistas/receptai\")\n",
    "#page.status_code\n",
    "#page.content\n",
    "soup = BeautifulSoup(page.content, 'html.parser')\n",
    "\n",
    "#print(soup.prettify())\n",
    "\n",
    "all_h1 = soup.find_all(\"h1\")\n",
    "all_p = soup.find_all(\"p\")\n",
    "all_divs = soup.find_all(\"div\")\n"
   ]
  },
  {
   "cell_type": "code",
   "execution_count": 21,
   "metadata": {},
   "outputs": [
    {
     "data": {
      "text/plain": [
       "bs4.element.Tag"
      ]
     },
     "execution_count": 21,
     "metadata": {},
     "output_type": "execute_result"
    }
   ],
   "source": [
    "type(all_divs[0])"
   ]
  },
  {
   "cell_type": "code",
   "execution_count": 11,
   "metadata": {},
   "outputs": [
    {
     "name": "stdout",
     "output_type": "stream",
     "text": [
      "<class 'bs4.element.Tag'>\n",
      "Išbandykite receptą iš knygos „Desertai. 365 receptai“.\n"
     ]
    }
   ],
   "source": [
    "print(type(all_p[0]))\n",
    "print(all_p[0].text)"
   ]
  },
  {
   "cell_type": "code",
   "execution_count": 4,
   "metadata": {},
   "outputs": [],
   "source": [
    "all_recipe_divs = soup.find_all(\"div\", class_=\"list-row\")\n",
    "\n",
    "results: List[Dict] = []\n",
    "\n",
    "for recipe_div in all_recipe_divs:\n",
    "    recipe_title = recipe_div.find(\"h3\").text.strip().split('\\n')[0] #test paima teksta, strip pasalina \\n, split paima pirma eilut stringo\n",
    "    recipe_amount = recipe_div.find(\"span\").text\n",
    "    recipe_link = recipe_div.find(\"a\").get(\"href\")\n",
    "    recipe_image_link = recipe_div.find(\"img\").get(\"src\")\n",
    "    #print(recipe_title)\n",
    "    #print(recipe_link)\n",
    "    #print(recipe_amount)\n",
    "    #print(recipe_image_link)\n",
    "\n",
    "    results.append({\n",
    "        \"title\": recipe_title,\n",
    "        \"recipe_amount\": recipe_amount,\n",
    "        \"recipe_link\": recipe_link,\n",
    "        \"recipe_image_link\": recipe_image_link\n",
    "\n",
    "    })\n",
    "\n",
    "#results\n",
    "\n",
    "#results_data_frame = pd.DataFrame(results)\n",
    "#results_data_frame.to_csv(\"15min.csv\")"
   ]
  },
  {
   "cell_type": "code",
   "execution_count": 18,
   "metadata": {},
   "outputs": [],
   "source": [
    "## RECEPTU SARASAS\n",
    "\n",
    "def extract_recipes_info(url: str) -> List[Dict]:\n",
    "    results: List[Dict] = []\n",
    "    resp = requests.get(url)\n",
    "    \n",
    "    if resp.status_code != 200:\n",
    "        raise Exception(\"Cannot reach page.\")\n",
    "    \n",
    "    soup = BeautifulSoup(resp.content, 'html.parser')\n",
    "\n",
    "    # aprasome html koses elementa is kurios surinksim info\n",
    "    all_recipe_divs = soup.find_all(\"div\", class_=\"list-row\")\n",
    "    \n",
    "    for recipe_div in all_recipe_divs:\n",
    "        recipe_title = recipe_div.find(\"h3\").text.strip().split('\\n')[0] #text paima teksta, strip pasalina \\n, split paima pirma eilut stringo\n",
    "        #recipe_amount = recipe_div.find(\"span\").text\n",
    "        recipe_link = recipe_div.find(\"a\").get(\"href\")\n",
    "        recipe_image_link = recipe_div.find(\"img\").get(\"src\")\n",
    "\n",
    "        results.append({\n",
    "            \"title\": recipe_title,\n",
    "            #\"recipe_amount\": recipe_amount,\n",
    "            \"recipe_link\": recipe_link,\n",
    "            \"recipe_image_link\": recipe_image_link\n",
    "\n",
    "        })\n",
    "\n",
    "    return results\n",
    "\n"
   ]
  },
  {
   "cell_type": "code",
   "execution_count": 20,
   "metadata": {},
   "outputs": [
    {
     "name": "stdout",
     "output_type": "stream",
     "text": [
      "resp yra <Response [200]>\n"
     ]
    },
    {
     "data": {
      "text/plain": [
       "[]"
      ]
     },
     "execution_count": 20,
     "metadata": {},
     "output_type": "execute_result"
    }
   ],
   "source": [
    "extract_recipes_info(\"https://www.15min.lt/maistas/receptai?psl=2000\")\n",
    "#type(test)\n",
    "#ilgis = len(test)\n",
    "#ilgis"
   ]
  },
  {
   "cell_type": "code",
   "execution_count": 6,
   "metadata": {},
   "outputs": [],
   "source": [
    "result: List[Dict] = []\n",
    "\n",
    "for page in range(20, 80):\n",
    "    url = f\"https://www.15min.lt/maistas/receptai?psl={page}\"\n",
    "    result.extend(extract_recipes_info(url))\n",
    "\n",
    "pd.DataFrame(result).to_csv(\"15min.csv\")"
   ]
  },
  {
   "cell_type": "code",
   "execution_count": 46,
   "metadata": {},
   "outputs": [],
   "source": [
    "## Ingredientai\n",
    "resp = requests.get(\"https://www.15min.lt/maistas/receptas/varskes-ir-fermentinio-surio-pyragas-8796\")\n",
    "soup = BeautifulSoup(resp.content, \"html.parser\")\n",
    "all_ingredients: List[Dict] = []\n",
    "\n",
    "recipe_title = soup.find(\"div\", class_=\"recipe-head\").find(\"h1\").text.strip()\n",
    "recipe_image = soup.find(\"div\", class_=\"image\").find(\"img\").get(\"src\")\n",
    "recipe_ingredients = soup.find(\"ul\", class_=\"ingredients\").find_all(\"li\")\n",
    "for ingredient in recipe_ingredients:\n",
    "    the_ingredient = ingredient.find_all(\"span\")\n",
    "    all_ingredients.append({\n",
    "        \"ingredient_name\": the_ingredient[0].text.strip(),\n",
    "        \"ingredient_amount\": the_ingredient[2].text.strip(),\n",
    "        \"ingredient_note\": the_ingredient[3].text.strip()\n",
    "    })\n",
    "\n",
    "#all_ingredients\n",
    "\n",
    "## Paruosimo budas\n",
    "recipe_manual: List[str] = []\n",
    "recipe_making_steps = soup.find(\"div\", class_=\"description text\").find_all(\"p\")\n",
    "\n",
    "recipe_making_steps\n",
    "\n",
    "\n",
    "\n",
    "for step in recipe_making_steps:\n",
    "    stepsas = step.text.strip()\n",
    "    recipe_manual.append(stepsas)"
   ]
  },
  {
   "cell_type": "code",
   "execution_count": 63,
   "metadata": {},
   "outputs": [],
   "source": [
    "## Info apie viena recepta\n",
    "\n",
    "def extract_recipe_ingredients(url: str) -> List[Dict]:\n",
    "    ## Ingredientai\n",
    "    resp = requests.get(url)\n",
    "    soup = BeautifulSoup(resp.content, \"html.parser\")\n",
    "    all_ingredients: List[Dict] = []\n",
    "\n",
    "    recipe_title = soup.find(\"div\", class_=\"recipe-head\").find(\"h1\").text.strip()\n",
    "    recipe_image = soup.find(\"div\", class_=\"image\").find(\"img\").get(\"src\")\n",
    "    recipe_ingredients = soup.find(\"ul\", class_=\"ingredients\").find_all(\"li\")\n",
    "    for ingredient in recipe_ingredients:\n",
    "        the_ingredient = ingredient.find_all(\"span\")\n",
    "        all_ingredients.append({\n",
    "            \"ingredient_name\": the_ingredient[0].text.strip(),\n",
    "            \"ingredient_amount\": the_ingredient[2].text.strip(),\n",
    "            \"ingredient_note\": the_ingredient[3].text.strip()\n",
    "        })\n",
    "    return all_ingredients\n",
    "\n",
    "\n",
    "def extract_making_manual(url: str) -> List[str]:\n",
    "\n",
    "    ## Paruosimo budas\n",
    "    resp = requests.get(url)\n",
    "    soup = BeautifulSoup(resp.content, \"html.parser\")\n",
    "    recipe_manual: List[str] = []\n",
    "    recipe_making_steps = soup.find(\"div\", class_=\"description text\").find_all(\"p\")\n",
    "\n",
    "    for step in recipe_making_steps:\n",
    "        stepsas = step.text.strip()\n",
    "        recipe_manual.append(stepsas)\n",
    "    \n",
    "    return recipe_manual\n",
    "\n"
   ]
  },
  {
   "cell_type": "code",
   "execution_count": 65,
   "metadata": {},
   "outputs": [
    {
     "name": "stdout",
     "output_type": "stream",
     "text": [
      "[{'ingredient_name': 'Makaronai', 'ingredient_amount': '250 g', 'ingredient_note': ''}, {'ingredient_name': 'Smidrai', 'ingredient_amount': '10 vnt.', 'ingredient_note': ''}, {'ingredient_name': 'Šalotinis svogūnas', 'ingredient_amount': '1 vnt.', 'ingredient_note': ''}, {'ingredient_name': 'Šoninė', 'ingredient_amount': '200 g', 'ingredient_note': 'rūkytos'}, {'ingredient_name': 'Pomidorai', 'ingredient_amount': '1 sauja', 'ingredient_note': 'vyšninių'}, {'ingredient_name': 'Špinatai', 'ingredient_amount': '1 sauja', 'ingredient_note': ''}, {'ingredient_name': 'Gorgonzolos sūris', 'ingredient_amount': '150 g', 'ingredient_note': ''}, {'ingredient_name': 'Grietinėlė', 'ingredient_amount': '70 ml', 'ingredient_note': ''}, {'ingredient_name': 'Parmezano sūris', 'ingredient_amount': '1 valg. š.', 'ingredient_note': 'tarkuoto'}]\n",
      "['1. Patiekalą reikia pradėti nuo makaronų virimo. Juos supilti į verdantį pasūdytą vandenį ir virti pagal instrukcijas ant pakuotės. Išvirus nukošti ir perpilti šaltu vandeniu.', '2. Smidrus perpjauti pusiau ir trumpai apvirti (apie 1 min.), kad suminkštėtų. Apvirusius smidrus supilti į šaltą vandenį.', '3. Šalotinius svogūnus supjaustyti juostelėmis išilgai. Rūkytą šoninę pasmulkinti kubeliais. Ją sudėti į su alyvuogių aliejumi įkaitintą keptuvę ir apkepinti. Tuomet suberti svogūnus. Jiems apskrudus, sudėti pusiau perpjautus pomidorus. Po 2 min. dėti bazilikus, smidrus ir šiek tiek apkepus – gorgonzolos sūrį. Jam ištirpus, supilti grietinėlę. Jei padažas per tirštas, įpilti šiek tiek vandens.', '4. Į indelį dėti makaronus, ant jų pilti padažą ir užberti parmezano sūrio.']\n"
     ]
    }
   ],
   "source": [
    "ing = extract_recipe_ingredients(\"https://www.15min.lt/maistas/receptas/makaronai-su-gorgonzolos-padazu-8788\")\n",
    "\n",
    "manual = extract_making_manual(\"https://www.15min.lt/maistas/receptas/makaronai-su-gorgonzolos-padazu-8788\")\n",
    "\n",
    "print(ing)\n",
    "print(manual)"
   ]
  }
 ],
 "metadata": {
  "kernelspec": {
   "display_name": "Python 3.10.6 64-bit ('3.10.6')",
   "language": "python",
   "name": "python3"
  },
  "language_info": {
   "codemirror_mode": {
    "name": "ipython",
    "version": 3
   },
   "file_extension": ".py",
   "mimetype": "text/x-python",
   "name": "python",
   "nbconvert_exporter": "python",
   "pygments_lexer": "ipython3",
   "version": "3.10.6"
  },
  "orig_nbformat": 4,
  "vscode": {
   "interpreter": {
    "hash": "fd15ff02c2674030d92d029fb961e821d771c4cffa27b5d8a6cd677df156e173"
   }
  }
 },
 "nbformat": 4,
 "nbformat_minor": 2
}
