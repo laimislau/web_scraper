{
 "cells": [
  {
   "cell_type": "code",
   "execution_count": 98,
   "metadata": {},
   "outputs": [],
   "source": [
    "import requests\n",
    "from bs4 import BeautifulSoup\n",
    "from typing import List, Dict\n",
    "import pandas as pd\n",
    "\n"
   ]
  },
  {
   "cell_type": "code",
   "execution_count": 19,
   "metadata": {},
   "outputs": [],
   "source": [
    "page = requests.get(\"https://www.15min.lt/maistas/receptai\")\n",
    "#page.status_code\n",
    "#page.content\n",
    "soup = BeautifulSoup(page.content, 'html.parser')\n",
    "\n",
    "#print(soup.prettify())\n",
    "\n",
    "all_h1 = soup.find_all(\"h1\")\n",
    "all_p = soup.find_all(\"p\")\n",
    "all_divs = soup.find_all(\"div\")\n"
   ]
  },
  {
   "cell_type": "code",
   "execution_count": 21,
   "metadata": {},
   "outputs": [
    {
     "data": {
      "text/plain": [
       "bs4.element.Tag"
      ]
     },
     "execution_count": 21,
     "metadata": {},
     "output_type": "execute_result"
    }
   ],
   "source": [
    "type(all_divs[0])"
   ]
  },
  {
   "cell_type": "code",
   "execution_count": 23,
   "metadata": {},
   "outputs": [
    {
     "name": "stdout",
     "output_type": "stream",
     "text": [
      "<class 'bs4.element.Tag'>\n",
      "Išbandykite receptą iš knygos „Desertai. 365 receptai“.\n"
     ]
    }
   ],
   "source": [
    "print(type(all_p[0]))\n",
    "print(all_p[0].text)"
   ]
  },
  {
   "cell_type": "code",
   "execution_count": 111,
   "metadata": {},
   "outputs": [
    {
     "data": {
      "text/plain": [
       "[{'title': 'Varškės ir fermentinio sūrio pyragas',\n",
       "  'recipe_link': 'https://www.15min.lt/maistas/receptas/varskes-ir-fermentinio-surio-pyragas-8796',\n",
       "  'recipe_image_link': 'https://s1.15min.lt/static/cache/MjIweDIwMCwsNjE2MTYzLG9yaWdpbmFsLCxpZD01MDYwOTcwJmRhdGU9MjAxOSUyRjExJTJGMDUsMjI0MDg1MTA4OA==/varskes-ir-fermentinio-surio-pyragas-shutterstock-5dc1509d223a1.jpg'},\n",
       " {'title': 'Migdolų saldainiai su kakava',\n",
       "  'recipe_link': 'https://www.15min.lt/maistas/receptas/migdolu-saldainiai-su-kakava-8794',\n",
       "  'recipe_image_link': 'https://s1.15min.lt/static/cache/MjIweDIwMCwsNjE2MTYzLG9yaWdpbmFsLCxpZD01MzA0OTc2JmRhdGU9MjAyMCUyRjA0JTJGMDIsMzg3ODMxMTMwMg==/migdolu-saldainiai-su-kakava-shutterstock-5e8588b1ce146.jpg'},\n",
       " {'title': 'Silkė su burokėliais ir bulvėmis',\n",
       "  'recipe_link': 'https://www.15min.lt/maistas/receptas/silke-su-burokeliais-ir-bulvemis-8792',\n",
       "  'recipe_image_link': 'https://s1.15min.lt/static/cache/MjIweDIwMCwsNjE2MTYzLG9yaWdpbmFsLCxpZD01MzA4NTUyJmRhdGU9MjAyMCUyRjA0JTJGMDYsMTcyODA2MDY1Ng==/5e86fbc10d784-5e8b1489b2b3b.jpg'},\n",
       " {'title': 'Sumuštinis su lašiša ir kiaušiniu',\n",
       "  'recipe_link': 'https://www.15min.lt/maistas/receptas/sumustinis-su-lasisa-ir-kiausiniu-8790',\n",
       "  'recipe_image_link': 'https://s1.15min.lt/static/cache/MjIweDIwMCwsNjE2MTYzLG9yaWdpbmFsLCxpZD01MzA4NTU2JmRhdGU9MjAyMCUyRjA0JTJGMDYsMTk3OTI1ODk1NQ==/5e86fbc1362fa-5e8b148bf22e4.jpg'},\n",
       " {'title': 'Makaronai su gorgonzolos padažu',\n",
       "  'recipe_link': 'https://www.15min.lt/maistas/receptas/makaronai-su-gorgonzolos-padazu-8788',\n",
       "  'recipe_image_link': 'https://s1.15min.lt/static/cache/MjIweDIwMCwsNjE2MTYzLG9yaWdpbmFsLCxpZD01MzA2NzQyJmRhdGU9MjAyMCUyRjA0JTJGMDMsMjQxNDA5NjgyNA==/makaronai-su-gorgonzolos-padazu-5e8712723b5bd.jpg'},\n",
       " {'title': 'Pavasarinės salotos su keptu varškės sūriu',\n",
       "  'recipe_link': 'https://www.15min.lt/maistas/receptas/pavasarines-salotos-su-keptu-varskes-suriu-8786',\n",
       "  'recipe_image_link': 'https://s1.15min.lt/static/cache/MjIweDIwMCwsNjE2MTYzLG9yaWdpbmFsLCxpZD01MzAyMjEwJmRhdGU9MjAyMCUyRjAzJTJGMzAsMjEwNzcxMTcwOA==/vakarienei-pavasarines-salotos-su-keptu-varskes-suriu_pexelscom-nuotr-5e8209ad4adc5.jpg'},\n",
       " {'title': 'Kiaušinienė brokolių patale',\n",
       "  'recipe_link': 'https://www.15min.lt/maistas/receptas/kiausiniene-brokoliu-patale-8784',\n",
       "  'recipe_image_link': 'https://s1.15min.lt/static/cache/MjIweDIwMCw2MjN4MzQyLDYxNjE2MyxvcmlnaW5hbCwsaWQ9NTMwMjIwOCZkYXRlPTIwMjAlMkYwMyUyRjMwLDkxNDUzNjI5Mw==/pusryciams-kiausiniene-brokoliu-patal-e_pixlrcom-nuotr-5e8209accad6d.jpg'},\n",
       " {'title': 'Bananiniai blynai iš 3 ingredientų',\n",
       "  'recipe_link': 'https://www.15min.lt/maistas/receptas/bananiniai-blynai-is-3-ingredientu-8782',\n",
       "  'recipe_image_link': 'https://s1.15min.lt/static/cache/MjIweDIwMCwxMTUzeDQ2NCw2MTYxNjMsb3JpZ2luYWwsLGlkPTUzMDQyNzYmZGF0ZT0yMDIwJTJGMDQlMkYwMSw3NjEyMzc3OTU=/bananiniai-blyneliai-5e846add2cc48.jpg'},\n",
       " {'title': 'Lengvas pieno kremo desertas su liofilizuotomis uogomis',\n",
       "  'recipe_link': 'https://www.15min.lt/maistas/receptas/lengvas-pieno-kremo-desertas-su-liofilizuotomis-uogomis-8780',\n",
       "  'recipe_image_link': 'https://s1.15min.lt/static/cache/MjIweDIwMCw3NDB4NTg2LDYxNjE2MyxvcmlnaW5hbCwsaWQ9NTMwNjI4OCZkYXRlPTIwMjAlMkYwNCUyRjAzLDM5NDc3OTI4MTk=/pieno-desertas-su-dziovintomis-uogomis-5e86dafd643fe.jpg'},\n",
       " {'title': 'Vištos krūtinėlių suktinukai, įdaryti sūriu ir špinatais',\n",
       "  'recipe_link': 'https://www.15min.lt/maistas/receptas/vistos-krutineliu-suktinukai-idaryti-suriu-ir-spinatais-8778',\n",
       "  'recipe_image_link': 'https://s1.15min.lt/static/cache/MjIweDIwMCwsNjE2MTYzLG9yaWdpbmFsLCxpZD01MzA4NDcyJmRhdGU9MjAyMCUyRjA0JTJGMDYsMzUyNTUyNTQxMg==/vistos-krutineliu-suktinukai-idaryti-suriu-ir-spinatais-5e8b04547fb1a.jpg'},\n",
       " {'title': 'Maltos kiaulienos terinas su žirneliais Velykoms',\n",
       "  'recipe_link': 'https://www.15min.lt/maistas/receptas/maltos-kiaulienos-terinas-su-zirneliais-velykoms-8776',\n",
       "  'recipe_image_link': 'https://s1.15min.lt/static/cache/MjIweDIwMCwsNjE2MTYzLG9yaWdpbmFsLCxpZD01MzEwNzI4JmRhdGU9MjAyMCUyRjA0JTJGMDgsMzE5MjM1NTA0NQ==/maltos-kiaulienos-terinas-su-zirneliais-5e8d8ba131bb9.jpg'},\n",
       " {'title': 'Raudonojo vyno padaže troškinta jautiena',\n",
       "  'recipe_link': 'https://www.15min.lt/maistas/receptas/raudonojo-vyno-padaze-troskinta-jautiena-8774',\n",
       "  'recipe_image_link': 'https://s1.15min.lt/static/cache/MjIweDIwMCwsNjE2MTYzLG9yaWdpbmFsLCxpZD01MzEzMTM4JmRhdGU9MjAyMCUyRjA0JTJGMTAsMTkyNjQyNTY0/raudonojo-vyno-padaze-troskinta-jautiena-5e904fdf1e5d4.jpg'},\n",
       " {'title': 'Ėrienos šonkauliukai su pistacijomis',\n",
       "  'recipe_link': 'https://www.15min.lt/maistas/receptas/erienos-sonkauliukai-su-pistacijomis-8772',\n",
       "  'recipe_image_link': 'https://s1.15min.lt/static/cache/MjIweDIwMCwsNjE2MTYzLG9yaWdpbmFsLCxpZD01MzEzNDQ2JmRhdGU9MjAyMCUyRjA0JTJGMTAsNjQxODYxNTU1/erienos-sonkauliukai-su-pistacijomis-5e906a3f9e026.jpg'},\n",
       " {'title': 'Šventinis keksas su lazdynų riešutais',\n",
       "  'recipe_link': 'https://www.15min.lt/maistas/receptas/sventinis-keksas-su-lazdynu-riesutais-8770',\n",
       "  'recipe_image_link': 'https://s1.15min.lt/static/cache/MjIweDIwMCwsNjE2MTYzLG9yaWdpbmFsLCxpZD01MzEwNjgwJmRhdGU9MjAyMCUyRjA0JTJGMDgsMjU0NzM0ODY3OQ==/velykinis-keksas-su-lazdynu-riesutais-5e8d80cf46fdf.jpg'},\n",
       " {'title': 'Itališkas braunis „Torta Caprese“',\n",
       "  'recipe_link': 'https://www.15min.lt/maistas/receptas/italiskas-braunis-torta-caprese-8768',\n",
       "  'recipe_image_link': 'https://s1.15min.lt/static/cache/MjIweDIwMCw4NjZ4OTUyLDYxNjE2MyxvcmlnaW5hbCwsaWQ9NTMwNTE4NiZkYXRlPTIwMjAlMkYwNCUyRjAyLDI5NjIzNjIzNjY=/italiskas-pyragas-torta-caprese-5e85987845a6d.jpg'},\n",
       " {'title': 'Naminis rikotos sūris su mėtomis',\n",
       "  'recipe_link': 'https://www.15min.lt/maistas/receptas/naminis-rikotos-suris-su-metomis-8766',\n",
       "  'recipe_image_link': 'https://s1.15min.lt/static/cache/MjIweDIwMCwsNjE2MTYzLG9yaWdpbmFsLCxpZD01MzA5NDUyJmRhdGU9MjAyMCUyRjA0JTJGMDcsMTczMTIyNDUz/naminis-rikotos-suris-su-metomis-5e8c442218803.jpg'},\n",
       " {'title': 'Saldus lavašo desertas su varške ir uogomis',\n",
       "  'recipe_link': 'https://www.15min.lt/maistas/receptas/saldus-lavaso-desertas-su-varske-ir-uogomis-8764',\n",
       "  'recipe_image_link': 'https://s1.15min.lt/static/cache/MjIweDIwMCw3NDR4ODgxLDYxNjE2MyxvcmlnaW5hbCwsaWQ9NTMxMzM3MiZkYXRlPTIwMjAlMkYwNCUyRjEwLDY5MTUyMjcxOQ==/saldus-lavaso-desertas-su-varske-ir-uogomis-5e905edcc4125.jpg'},\n",
       " {'title': 'Silkių filė įdaryti kiaušiniai',\n",
       "  'recipe_link': 'https://www.15min.lt/maistas/receptas/silkiu-file-idaryti-kiausiniai-8762',\n",
       "  'recipe_image_link': 'https://s1.15min.lt/static/cache/MjIweDIwMCwsNjE2MTYzLG9yaWdpbmFsLCxpZD01MzEzMjkwJmRhdGU9MjAyMCUyRjA0JTJGMTAsMzQ4MTI0ODIwNw==/silkiu-file-idaryti-kiausiniai-shutterstock-5e9058482817a.jpg'},\n",
       " {'title': 'Nesaldus neapolietiškas mielinis Velykų pyragas',\n",
       "  'recipe_link': 'https://www.15min.lt/maistas/receptas/nesaldus-neapolietiskas-mielinis-velyku-pyragas-8760',\n",
       "  'recipe_image_link': 'https://s1.15min.lt/static/cache/MjIweDIwMCwsNjE2MTYzLG9yaWdpbmFsLCxpZD01MzExMTcwJmRhdGU9MjAyMCUyRjA0JTJGMDgsMzE2Nzk4MTgzOA==/neapolietiskas-velyku-pyragas-5e8db8788c2ae.jpg'},\n",
       " {'title': 'Šaldytos tešlos suktinis su mėsa ir daržovėmis',\n",
       "  'recipe_link': 'https://www.15min.lt/maistas/receptas/saldytos-teslos-suktinis-su-mesa-ir-darzovemis-8758',\n",
       "  'recipe_image_link': 'https://s1.15min.lt/static/cache/MjIweDIwMCw4NjF4NjE4LDYxNjE2MyxvcmlnaW5hbCwsaWQ9NTMxMzUwOCZkYXRlPTIwMjAlMkYwNCUyRjEwLDIxMjI1MTcyMzM=/saldytos-teslos-suktinis-su-mesa-ir-darzovemis-5e906f80dffdf.jpg'}]"
      ]
     },
     "execution_count": 111,
     "metadata": {},
     "output_type": "execute_result"
    }
   ],
   "source": [
    "all_recipe_divs = soup.find_all(\"div\", class_=\"list-row\")\n",
    "\n",
    "results: List[Dict] = []\n",
    "\n",
    "for recipe_div in all_recipe_divs:\n",
    "    recipe_title = recipe_div.find(\"h3\").text.strip().split('\\n')[0] #test paima teksta, strip pasalina \\n, split paima pirma eilut stringo\n",
    "    recipe_amount = recipe_div.find(\"span\").text\n",
    "    recipe_link = recipe_div.find(\"a\").get(\"href\")\n",
    "    recipe_image_link = recipe_div.find(\"img\").get(\"src\")\n",
    "    #print(recipe_title)\n",
    "    #print(recipe_link)\n",
    "    #print(recipe_amount)\n",
    "    #print(recipe_image_link)\n",
    "\n",
    "    results.append({\n",
    "        \"title\": recipe_title,\n",
    "        \"recipe_amount\": recipe_amount,\n",
    "        \"recipe_link\": recipe_link,\n",
    "        \"recipe_image_link\": recipe_image_link\n",
    "\n",
    "    })\n",
    "\n",
    "results"
   ]
  }
 ],
 "metadata": {
  "kernelspec": {
   "display_name": "Python 3.10.6 ('.venv': poetry)",
   "language": "python",
   "name": "python3"
  },
  "language_info": {
   "codemirror_mode": {
    "name": "ipython",
    "version": 3
   },
   "file_extension": ".py",
   "mimetype": "text/x-python",
   "name": "python",
   "nbconvert_exporter": "python",
   "pygments_lexer": "ipython3",
   "version": "3.10.6"
  },
  "orig_nbformat": 4,
  "vscode": {
   "interpreter": {
    "hash": "9eab04dfb867213b391aab0dc363eae09cf8bedc01e19e3639d4b2d30f561fef"
   }
  }
 },
 "nbformat": 4,
 "nbformat_minor": 2
}
